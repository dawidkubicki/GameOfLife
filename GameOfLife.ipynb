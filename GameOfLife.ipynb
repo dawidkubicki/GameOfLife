{
 "cells": [
  {
   "cell_type": "markdown",
   "metadata": {
    "collapsed": true
   },
   "source": [
    "## Game of Life in Python"
   ]
  },
  {
   "cell_type": "markdown",
   "metadata": {},
   "source": [
    "### How the game works?\n",
    "\n",
    "#### Game of Life is build on nine squares, every cell has eight neighboaring cells. A given cell (i,j) in the simulation is accessed on a grid [i][j], where i and j stands for row and columns indices. The value of a given cell at a given instant of time depends on the state of its neighbors at the previous step. Conway's Game of Life has four rules."
   ]
  },
  {
   "cell_type": "markdown",
   "metadata": {},
   "source": [
    "### Rule 1: I a cell is ON and < (fewer) than two neighbors that are ON, it turns OFF.\n",
    "### Rule 2: If a cell is ON and has either two or three neighbors that are ON, it remains ON.\n",
    "### Rule 3: If a cell is ON and has more than three neighbors that are ON, it turns OFF.\n",
    "### Rule 4: If a cell is OFF and has exactly three neighbors that are ON, it turns ON."
   ]
  },
  {
   "cell_type": "code",
   "execution_count": 1,
   "metadata": {},
   "outputs": [
    {
     "data": {
      "text/html": [
       "<img src=\"https://media.geeksforgeeks.org/wp-content/uploads/20201102133039/GameOfLifeDiagram.png\"/>"
      ],
      "text/plain": [
       "<IPython.core.display.Image object>"
      ]
     },
     "execution_count": 1,
     "metadata": {},
     "output_type": "execute_result"
    }
   ],
   "source": [
    "from IPython.display import Image\n",
    "from IPython.core.display import HTML \n",
    "Image(url= \"https://media.geeksforgeeks.org/wp-content/uploads/20201102133039/GameOfLifeDiagram.png\")"
   ]
  },
  {
   "cell_type": "markdown",
   "metadata": {},
   "source": [
    "### Approach to programm it: \n",
    "\n",
    "#### 1. Initialize the cells in the grid\n",
    "#### 2. At each time step in the simulation, for each cell (i,j) in the grid, do the following:\n",
    "#### a) Update the value of a cell (i, j) based on its neighbors, taking into account the boundary conditions.\n",
    "#### b) Update the display of grid values."
   ]
  },
  {
   "cell_type": "code",
   "execution_count": 38,
   "metadata": {},
   "outputs": [
    {
     "name": "stderr",
     "output_type": "stream",
     "text": [
      "usage: ipykernel_launcher.py [-h] [--grid-size N] [--mov-file MOVFILE]\n",
      "                             [--interval INTERVAL] [--glider] [--gosper]\n",
      "ipykernel_launcher.py: error: unrecognized arguments: -f /Users/dawidkubicki/Library/Jupyter/runtime/kernel-09f84757-2682-4009-9252-cbc0271b1207.json\n"
     ]
    },
    {
     "ename": "SystemExit",
     "evalue": "2",
     "output_type": "error",
     "traceback": [
      "An exception has occurred, use %tb to see the full traceback.\n",
      "\u001B[0;31mSystemExit\u001B[0m\u001B[0;31m:\u001B[0m 2\n"
     ]
    }
   ],
   "source": [
    "#imports\n",
    "import argparse\n",
    "import numpy as np\n",
    "import matplotlib.pyplot as plt\n",
    "import matplotlib.animation as animation\n",
    "\n",
    "# set values of the grid\n",
    "ON = 255\n",
    "OFF = 0\n",
    "vals = [ON, OFF]\n",
    "\n",
    "#return a grid of NxN random values\n",
    "def randomGrid(N):\n",
    "    return np.random.choice(vals, N*N, p=[0.2, 0.8]).reshape(N,N)\n",
    "\n",
    "#adds a glider with top left cell (i, j)\n",
    "def addGlider(i, j, grid):\n",
    "    glider = np.array([[0, 0, 255],\n",
    "                      [255, 0, 255],\n",
    "                      [0, 255, 255]])\n",
    "    grid[i:i+3, j:j+3] = glider\n",
    "    \n",
    "def addGosperGliderGun(i, j, grid):\n",
    "    gun = np.zeros(11*38).reshape(11, 38)\n",
    "    \n",
    "    gun[5][1] = gun[5][2] = 255\n",
    "    gun[6][1] = gun[6][2] = 255\n",
    "    \n",
    "    gun[3][13] = gun[3][14] = 255\n",
    "    gun[4][12] = gun[4][16] = 255\n",
    "    gun[5][11] = gun[5][17] = 255\n",
    "    gun[6][11] = gun[6][15] = gun[6][17] = gun[6][18] = 255\n",
    "    gun[7][11] = gun[7][17] = 255\n",
    "    gun[8][12] = gun[8][16] = 255\n",
    "    gun[9][13] = gun[9][14] = 255\n",
    "    \n",
    "    gun[1][25] = 255\n",
    "    gun[2][23] = gun[2][25] = 255\n",
    "    gun[3][21] = gun[3][22] = 255\n",
    "    gun[4][21] = gun[4][22] = 255\n",
    "    gun[5][21] = gun[5][22] = 255\n",
    "    gun[6][23] = gun[6][25] = 255\n",
    "    gun[7][25] = 255\n",
    "    \n",
    "    gun[3][35] = gun[3][36] = 255\n",
    "    gun[4][35] = gun[4][36] = 255\n",
    "    \n",
    "    grid[i:i+11, j:j+38] = gun\n",
    "    \n",
    "def update(frameNum, img, grid, N):\n",
    "    newGrid = grid.copy()\n",
    "    for i in range(N):\n",
    "        for j in range(N):\n",
    "            total = int((grid[i, (j-1)%N] + grid[i, (j+1)%N] +\n",
    "                        grid[(i-1)%N, j] + grid[(i+1)%N, j] +\n",
    "                        grid[(i-1)%N, (j-1)%N] + grid[(i+1)%N, (j-1)%N] +\n",
    "                        grid[(i-1)%N, (j-1)%N] + grid[(i+1)%N, (j-1)%N])/255)\n",
    "            \n",
    "            #apply Conway's rules\n",
    "            if grid[i,j] == ON:\n",
    "                if(total < 2) or (total > 3):\n",
    "                    newGrid[i, j] = OFF\n",
    "            else:\n",
    "                if total == 3:\n",
    "                        newGrid[i, j] = ON\n",
    "                        \n",
    "    #update data\n",
    "    img.set_data(newGrid)\n",
    "    grid[:] = newGrid[:]\n",
    "    return img,\n",
    "\n",
    "\n",
    "def main():\n",
    " \n",
    "    # Command line args are in sys.argv[1], sys.argv[2] ..\n",
    "    # sys.argv[0] is the script name itself and can be ignored\n",
    "    # parse arguments\n",
    "    parser = argparse.ArgumentParser(description=\"Runs Conway's Game of Life simulation.\")\n",
    " \n",
    "    # add arguments\n",
    "    parser.add_argument('--grid-size', dest='N', required=False)\n",
    "    parser.add_argument('--mov-file', dest='movfile', required=False)\n",
    "    parser.add_argument('--interval', dest='interval', required=False)\n",
    "    parser.add_argument('--glider', action='store_true', required=False)\n",
    "    parser.add_argument('--gosper', action='store_true', required=False)\n",
    "    args = parser.parse_args()\n",
    "     \n",
    "    # set grid size\n",
    "    N = 100\n",
    "    if args.N and int(args.N) > 8:\n",
    "        N = int(args.N)\n",
    "         \n",
    "    # set animation update interval\n",
    "    updateInterval = 50\n",
    "    if args.interval:\n",
    "        updateInterval = int(args.interval)\n",
    " \n",
    "    # declare grid\n",
    "    grid = np.array([])\n",
    " \n",
    "    # check if \"glider\" demo flag is specified\n",
    "    if args.glider:\n",
    "        grid = np.zeros(N*N).reshape(N, N)\n",
    "        addGlider(1, 1, grid)\n",
    "    elif args.gosper:\n",
    "        grid = np.zeros(N*N).reshape(N, N)\n",
    "        addGosperGliderGun(10, 10, grid)\n",
    " \n",
    "    else:   # populate grid with random on/off -\n",
    "            # more off than on\n",
    "        grid = randomGrid(N)\n",
    " \n",
    "    # set up animation\n",
    "    fig, ax = plt.subplots()\n",
    "    img = ax.imshow(grid, interpolation='nearest')\n",
    "    ani = animation.FuncAnimation(fig, update, fargs=(img, grid, N, ),\n",
    "                                  frames = 10,\n",
    "                                  interval=updateInterval,\n",
    "                                  save_count=50)\n",
    " \n",
    "    # # of frames? \n",
    "    # set output file\n",
    "    if args.movfile:\n",
    "        ani.save(args.movfile, fps=30, extra_args=['-vcodec', 'libx264'])\n",
    " \n",
    "    plt.show()\n",
    " \n",
    "\n",
    "if __name__ == '__main__':\n",
    "    main()\n",
    "   "
   ]
  }
 ],
 "metadata": {
  "kernelspec": {
   "display_name": "Python 3",
   "language": "python",
   "name": "python3"
  },
  "language_info": {
   "codemirror_mode": {
    "name": "ipython",
    "version": 3
   },
   "file_extension": ".py",
   "mimetype": "text/x-python",
   "name": "python",
   "nbconvert_exporter": "python",
   "pygments_lexer": "ipython3",
   "version": "3.9.1"
  }
 },
 "nbformat": 4,
 "nbformat_minor": 1
}